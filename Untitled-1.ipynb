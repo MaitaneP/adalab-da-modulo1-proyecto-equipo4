{
 "cells": [
  {
   "cell_type": "code",
   "execution_count": null,
   "metadata": {},
   "outputs": [],
   "source": [
    "# 1.\n",
    "# Vamos a crear una \"Calculadora de puntos\". \n",
    "# Tenéis que escribir una calculadora que reciba cadenas de caracteres como entrada. \n",
    "# Los puntos representarán el número de la ecuación. \n",
    "Habrá puntos en un lado, un operador, y puntos de nuevo después del oparador. \n",
    "Los puntos y el operador estarán separados por un espacio.\n",
    "Aquí os dejamos los operadores válidos:\n",
    "Suma\n",
    "Resta\n",
    "Multiplicación\n",
    "División entera\n",
    "Vuestro trabajo\n",
    "Tendréis que devolver un string que contenga puntos, tantos como devuelva la ecuación. \n",
    "Si el resultado es 0, devuelve la cadena vacía. Cuando se trata de una resta, \n",
    "el primer número siempre será mayor o igual que el segundo."
   ]
  }
 ],
 "metadata": {
  "kernelspec": {
   "display_name": "Python 3",
   "language": "python",
   "name": "python3"
  },
  "language_info": {
   "name": "python",
   "version": "3.9.6"
  },
  "orig_nbformat": 4,
  "vscode": {
   "interpreter": {
    "hash": "31f2aee4e71d21fbe5cf8b01ff0e069b9275f58929596ceb00d14d90e3e16cd6"
   }
  }
 },
 "nbformat": 4,
 "nbformat_minor": 2
}
